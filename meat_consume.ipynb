{
 "cells": [
  {
   "cell_type": "markdown",
   "metadata": {},
   "source": [
    "## Meat consumption trends through the years \n",
    "# This project will seek to find trends in the consumption of meat in many countries around the world.\n",
    "The data been taken from 1961 to 2018 and for many different trends in the way people consume meat. I found many seperate csv files of data surrounding the consumption of meat and I intend to merge them together to be able to correlate the values with each other.\n",
    "🥅 My Goals:\n",
    "- To learn to merge together and clean up data from multiple sources to create insightful conclusions about the data\n",
    "- Create a story through the processing of the data \n",
    "- Make some visually appealing graphs using pandas and numpy "
   ]
  },
  {
   "cell_type": "code",
   "execution_count": null,
   "metadata": {},
   "outputs": [],
   "source": []
  }
 ],
 "metadata": {
  "language_info": {
   "name": "python"
  },
  "orig_nbformat": 4
 },
 "nbformat": 4,
 "nbformat_minor": 2
}
